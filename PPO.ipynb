{
 "cells": [
  {
   "cell_type": "code",
   "execution_count": null,
   "metadata": {},
   "outputs": [],
   "source": [
    "from unityagents import UnityEnvironment\n",
    "\n",
    "import random\n",
    "from collections import namedtuple, deque\n",
    "from agent import Agent"
   ]
  },
  {
   "cell_type": "code",
   "execution_count": null,
   "metadata": {},
   "outputs": [],
   "source": [
    "env = UnityEnvironment(file_name='Reacher_Windows_x86_64/Reacher.exe')\n",
    "brain_name = env.brain_names[0]\n",
    "brain = env.brains[brain_name]\n",
    "env_info = env.reset(train_mode=True)[brain_name]"
   ]
  },
  {
   "cell_type": "markdown",
   "metadata": {},
   "source": [
    "## Taking Random Action"
   ]
  },
  {
   "cell_type": "code",
   "execution_count": null,
   "metadata": {},
   "outputs": [],
   "source": [
    "num_agents = len(env_info.agents)\n",
    "action_size = brain.vector_action_space_size\n",
    "print (\"Action Size is :\", action_size)\n",
    "states = env_info.vector_observations\n",
    "state_size = states.shape[1]\n",
    "\n",
    "env_info = env.reset(train_mode=False)[brain_name]     # reset the environment    \n",
    "states = env_info.vector_observations                  # get the current state (for each agent)\n",
    "scores = np.zeros(num_agents)                          # initialize the score (for each agent)\n",
    "for i in range(100):\n",
    "    actions = np.random.randn(num_agents, action_size) # select an action (for each agent)\n",
    "    actions = np.clip(actions, -1, 1)                  # all actions between -1 and 1\n",
    "    env_info = env.step(actions)[brain_name]           # send all actions to tne environment\n",
    "    next_states = env_info.vector_observations         # get next state (for each agent)\n",
    "    rewards = env_info.rewards                         # get reward (for each agent)\n",
    "    dones = env_info.local_done                        # see if episode finished\n",
    "    scores += env_info.rewards                         # update the score (for each agent)\n",
    "    states = next_states                               # roll over states to next time step\n",
    "    if np.any(dones):                                  # exit loop if episode finished\n",
    "        break\n",
    "print('Total score (averaged over agents) this episode: {}'.format(np.mean(scores)))\n",
    "# env.close()"
   ]
  },
  {
   "cell_type": "markdown",
   "metadata": {},
   "source": [
    "## Training the Agent with PPO"
   ]
  },
  {
   "cell_type": "code",
   "execution_count": null,
   "metadata": {},
   "outputs": [],
   "source": [
    "import numpy as np\n",
    "import matplotlib.pyplot as plt\n",
    "import torch\n",
    "import torch.nn as nn\n",
    "import torch.optim as optim\n",
    "\n",
    "num_agents = len(env_info.agents)\n",
    "max_t = 1e5\n",
    "n_episodes = 300\n",
    "LR = 3e-4          # learning rate\n",
    "EPSILON = 1e-5      # Adam epsilon\n",
    "ROLLOUT_LENGTH = 1024\n",
    "\n",
    "state_size = env_info.vector_observations.shape[1]\n",
    "hidden_size = 512\n",
    "action_size = brain.vector_action_space_size\n",
    "\n",
    "\n",
    "agent = Agent( num_agents, state_size, action_size)\n",
    "# CONTINUE TRAINING\n",
    "# agent.model.load_state_dict(torch.load('ppo_checkpoint.pth'))\n",
    "\n",
    "\n",
    "def test_agent(env, brain_name):\n",
    "    env_info = env.reset(train_mode = True)[brain_name]\n",
    "    states = env_info.vector_observations\n",
    "    scores = np.zeros(num_agents)\n",
    "    while True:\n",
    "        actions, _, _= agent.act(states)\n",
    "        env_info = env.step(actions.cpu().detach().numpy())[brain_name]\n",
    "        next_states = env_info.vector_observations\n",
    "        rewards = env_info.rewards\n",
    "        dones = env_info.local_done\n",
    "        scores += env_info.rewards\n",
    "        states = next_states\n",
    "        if np.any(dones):\n",
    "            break\n",
    "    return np.mean(scores)\n",
    "        \n",
    "# def ppo( :params: )\n",
    "if True:\n",
    "    env.info = env.reset(train_mode = True)[brain_name]\n",
    "    scores = []\n",
    "    scores_window = deque(maxlen=100)\n",
    "        \n",
    "    for i_episode in range(1, n_episodes+1):\n",
    "        # Each iteration, N parallel actors collect T time steps of data\n",
    "        \n",
    "        # AGENT: def step(self, rollout, num_agents):\n",
    "        env_info = env.reset(train_mode=True)[brain_name]\n",
    "        states = env_info.vector_observations  \n",
    "        rollout = []\n",
    "        agents_rewards = []\n",
    "\n",
    "        for _ in range(ROLLOUT_LENGTH):\n",
    "            actions, log_probs, values = agent.act(states)\n",
    "            env_info = env.step(actions.cpu().detach().numpy())[brain_name]\n",
    "            next_states = env_info.vector_observations\n",
    "            rewards = env_info.rewards\n",
    "            dones = env_info.local_done\n",
    "            # print (\"env_info.local_done\", env_info.local_done)\n",
    "            agents_rewards += rewards            \n",
    "            dones_ = np.array([1 if d else 0 for d in env_info.local_done])\n",
    "            # append tuple ( s, a, p(a|s), r, dones, V(s) )\n",
    "            rollout.append([states, actions.detach(), log_probs.detach(), rewards, 1 - dones_, values.detach()])\n",
    "            states = next_states\n",
    "            if np.any(dones):                                  # exit loop if episode finished\n",
    "                break\n",
    "\n",
    "        # last step\n",
    "        values = agent.model(states)[-1].detach()\n",
    "        rollout.append([states, None, None, None, None, values])\n",
    "        \n",
    "        agent.step(rollout, num_agents)\n",
    "        \n",
    "        test_mean_reward = test_agent(env, brain_name)\n",
    "        scores.append(test_mean_reward)\n",
    "        scores_window.append(test_mean_reward)\n",
    "\n",
    "        if np.mean(scores_window) > 30.0:\n",
    "            torch.save(agent.model.state_dict(), f\"ppo_checkpoint.pth\")\n",
    "            print('\\nEnvironment solved in {:d} episodes!\\tAverage Score: {:.2f}'.format(i_episode, np.mean(all_scores_window)))\n",
    "            break       \n",
    "        \n",
    "        print('Episode {}, Total score this episode: {}, Last {} average: {}'.format(i_episode, test_mean_reward, min(i_episode, 100), np.mean(scores_window)) )"
   ]
  },
  {
   "cell_type": "code",
   "execution_count": null,
   "metadata": {},
   "outputs": [],
   "source": [
    "torch.save(agent.model.state_dict(), f\"ppo_checkpoint.pth\")\n",
    "# PLOT THE SCORES\n",
    "import matplotlib.pyplot as plt\n",
    "%matplotlib inline\n",
    "\n",
    "score = scores\n",
    "fig = plt.figure()\n",
    "ax = fig.add_subplot(111)\n",
    "plt.plot(np.arange(len(score)), score)\n",
    "plt.ylabel('Score')\n",
    "plt.xlabel('Episode Number')\n",
    "plt.show()"
   ]
  },
  {
   "cell_type": "markdown",
   "metadata": {},
   "source": [
    "## Run a trained agent"
   ]
  },
  {
   "cell_type": "code",
   "execution_count": null,
   "metadata": {},
   "outputs": [],
   "source": [
    "agent = Agent( num_agents, state_size, action_size)\n",
    "agent.model.load_state_dict(torch.load('ppo_checkpoint.pth'))\n",
    "\n",
    "score = test_agent(env, brain_name)\n",
    "print (score)"
   ]
  },
  {
   "cell_type": "code",
   "execution_count": null,
   "metadata": {},
   "outputs": [],
   "source": [
    "env.close()"
   ]
  },
  {
   "cell_type": "code",
   "execution_count": null,
   "metadata": {},
   "outputs": [],
   "source": []
  }
 ],
 "metadata": {
  "kernelspec": {
   "display_name": "drlnd",
   "language": "python",
   "name": "drlnd"
  },
  "language_info": {
   "codemirror_mode": {
    "name": "ipython",
    "version": 3
   },
   "file_extension": ".py",
   "mimetype": "text/x-python",
   "name": "python",
   "nbconvert_exporter": "python",
   "pygments_lexer": "ipython3",
   "version": "3.6.6"
  }
 },
 "nbformat": 4,
 "nbformat_minor": 2
}
